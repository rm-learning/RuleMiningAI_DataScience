{
 "cells": [
  {
   "cell_type": "code",
   "execution_count": 3,
   "metadata": {},
   "outputs": [
    {
     "name": "stdout",
     "output_type": "stream",
     "text": [
      "Requirement already satisfied: apyori in c:\\users\\miran\\appdata\\local\\packages\\pythonsoftwarefoundation.python.3.11_qbz5n2kfra8p0\\localcache\\local-packages\\python311\\site-packages (1.1.2)\n"
     ]
    },
    {
     "name": "stderr",
     "output_type": "stream",
     "text": [
      "\n",
      "[notice] A new release of pip is available: 23.2.1 -> 23.3\n",
      "[notice] To update, run: C:\\Users\\miran\\AppData\\Local\\Microsoft\\WindowsApps\\PythonSoftwareFoundation.Python.3.11_qbz5n2kfra8p0\\python.exe -m pip install --upgrade pip\n"
     ]
    }
   ],
   "source": [
    "!pip install apyori"
   ]
  },
  {
   "cell_type": "code",
   "execution_count": 4,
   "metadata": {},
   "outputs": [],
   "source": [
    "import pandas as pd\n",
    "from apyori import apriori"
   ]
  },
  {
   "cell_type": "code",
   "execution_count": 5,
   "metadata": {},
   "outputs": [
    {
     "data": {
      "text/html": [
       "<div>\n",
       "<style scoped>\n",
       "    .dataframe tbody tr th:only-of-type {\n",
       "        vertical-align: middle;\n",
       "    }\n",
       "\n",
       "    .dataframe tbody tr th {\n",
       "        vertical-align: top;\n",
       "    }\n",
       "\n",
       "    .dataframe thead th {\n",
       "        text-align: right;\n",
       "    }\n",
       "</style>\n",
       "<table border=\"1\" class=\"dataframe\">\n",
       "  <thead>\n",
       "    <tr style=\"text-align: right;\">\n",
       "      <th></th>\n",
       "      <th>n°</th>\n",
       "      <th>Leite</th>\n",
       "      <th>Café</th>\n",
       "      <th>Cerveja</th>\n",
       "      <th>Pão</th>\n",
       "      <th>Manteiga</th>\n",
       "      <th>Arroz</th>\n",
       "      <th>Feijão</th>\n",
       "    </tr>\n",
       "  </thead>\n",
       "  <tbody>\n",
       "    <tr>\n",
       "      <th>0</th>\n",
       "      <td>1</td>\n",
       "      <td>não</td>\n",
       "      <td>sim</td>\n",
       "      <td>não</td>\n",
       "      <td>sim</td>\n",
       "      <td>sim</td>\n",
       "      <td>não</td>\n",
       "      <td>não</td>\n",
       "    </tr>\n",
       "    <tr>\n",
       "      <th>1</th>\n",
       "      <td>2</td>\n",
       "      <td>sim</td>\n",
       "      <td>não</td>\n",
       "      <td>sim</td>\n",
       "      <td>sim</td>\n",
       "      <td>sim</td>\n",
       "      <td>não</td>\n",
       "      <td>não</td>\n",
       "    </tr>\n",
       "    <tr>\n",
       "      <th>2</th>\n",
       "      <td>3</td>\n",
       "      <td>não</td>\n",
       "      <td>sim</td>\n",
       "      <td>não</td>\n",
       "      <td>sim</td>\n",
       "      <td>sim</td>\n",
       "      <td>não</td>\n",
       "      <td>não</td>\n",
       "    </tr>\n",
       "    <tr>\n",
       "      <th>3</th>\n",
       "      <td>4</td>\n",
       "      <td>sim</td>\n",
       "      <td>sim</td>\n",
       "      <td>não</td>\n",
       "      <td>sim</td>\n",
       "      <td>sim</td>\n",
       "      <td>não</td>\n",
       "      <td>não</td>\n",
       "    </tr>\n",
       "    <tr>\n",
       "      <th>4</th>\n",
       "      <td>5</td>\n",
       "      <td>não</td>\n",
       "      <td>não</td>\n",
       "      <td>sim</td>\n",
       "      <td>não</td>\n",
       "      <td>não</td>\n",
       "      <td>não</td>\n",
       "      <td>não</td>\n",
       "    </tr>\n",
       "    <tr>\n",
       "      <th>5</th>\n",
       "      <td>6</td>\n",
       "      <td>não</td>\n",
       "      <td>não</td>\n",
       "      <td>não</td>\n",
       "      <td>não</td>\n",
       "      <td>sim</td>\n",
       "      <td>não</td>\n",
       "      <td>não</td>\n",
       "    </tr>\n",
       "    <tr>\n",
       "      <th>6</th>\n",
       "      <td>7</td>\n",
       "      <td>não</td>\n",
       "      <td>não</td>\n",
       "      <td>não</td>\n",
       "      <td>sim</td>\n",
       "      <td>não</td>\n",
       "      <td>não</td>\n",
       "      <td>não</td>\n",
       "    </tr>\n",
       "    <tr>\n",
       "      <th>7</th>\n",
       "      <td>8</td>\n",
       "      <td>não</td>\n",
       "      <td>não</td>\n",
       "      <td>não</td>\n",
       "      <td>não</td>\n",
       "      <td>não</td>\n",
       "      <td>não</td>\n",
       "      <td>sim</td>\n",
       "    </tr>\n",
       "    <tr>\n",
       "      <th>8</th>\n",
       "      <td>9</td>\n",
       "      <td>não</td>\n",
       "      <td>não</td>\n",
       "      <td>não</td>\n",
       "      <td>não</td>\n",
       "      <td>não</td>\n",
       "      <td>sim</td>\n",
       "      <td>sim</td>\n",
       "    </tr>\n",
       "    <tr>\n",
       "      <th>9</th>\n",
       "      <td>10</td>\n",
       "      <td>não</td>\n",
       "      <td>não</td>\n",
       "      <td>não</td>\n",
       "      <td>não</td>\n",
       "      <td>não</td>\n",
       "      <td>sim</td>\n",
       "      <td>não</td>\n",
       "    </tr>\n",
       "  </tbody>\n",
       "</table>\n",
       "</div>"
      ],
      "text/plain": [
       "   n° Leite Café Cerveja  Pão Manteiga Arroz Feijão\n",
       "0   1   não  sim     não  sim      sim   não    não\n",
       "1   2   sim  não     sim  sim      sim   não    não\n",
       "2   3   não  sim     não  sim      sim   não    não\n",
       "3   4   sim  sim     não  sim      sim   não    não\n",
       "4   5   não  não     sim  não      não   não    não\n",
       "5   6   não  não     não  não      sim   não    não\n",
       "6   7   não  não     não  sim      não   não    não\n",
       "7   8   não  não     não  não      não   não    sim\n",
       "8   9   não  não     não  não      não   sim    sim\n",
       "9  10   não  não     não  não      não   sim    não"
      ]
     },
     "execution_count": 5,
     "metadata": {},
     "output_type": "execute_result"
    }
   ],
   "source": [
    "market_df = pd.read_csv('../sample_data/MercadoSim.csv', encoding='UTF-8')\n",
    "market_df"
   ]
  },
  {
   "cell_type": "code",
   "execution_count": 6,
   "metadata": {},
   "outputs": [
    {
     "data": {
      "text/plain": [
       "(10, 8)"
      ]
     },
     "execution_count": 6,
     "metadata": {},
     "output_type": "execute_result"
    }
   ],
   "source": [
    "market_df.shape"
   ]
  },
  {
   "cell_type": "code",
   "execution_count": 7,
   "metadata": {},
   "outputs": [
    {
     "data": {
      "text/plain": [
       "[['1', 'não', 'sim', 'não', 'sim', 'sim', 'não', 'não'],\n",
       " ['2', 'sim', 'não', 'sim', 'sim', 'sim', 'não', 'não'],\n",
       " ['3', 'não', 'sim', 'não', 'sim', 'sim', 'não', 'não'],\n",
       " ['4', 'sim', 'sim', 'não', 'sim', 'sim', 'não', 'não'],\n",
       " ['5', 'não', 'não', 'sim', 'não', 'não', 'não', 'não'],\n",
       " ['6', 'não', 'não', 'não', 'não', 'sim', 'não', 'não'],\n",
       " ['7', 'não', 'não', 'não', 'sim', 'não', 'não', 'não'],\n",
       " ['8', 'não', 'não', 'não', 'não', 'não', 'não', 'sim'],\n",
       " ['9', 'não', 'não', 'não', 'não', 'não', 'sim', 'sim'],\n",
       " ['10', 'não', 'não', 'não', 'não', 'não', 'sim', 'não']]"
      ]
     },
     "execution_count": 7,
     "metadata": {},
     "output_type": "execute_result"
    }
   ],
   "source": [
    "transformed = []\n",
    "\n",
    "for i in range(len(market_df)):\n",
    "  transformed.append([str(market_df.values[i, j]) for j in range(market_df.shape[1])])\n",
    "\n",
    "transformed"
   ]
  },
  {
   "cell_type": "code",
   "execution_count": 8,
   "metadata": {},
   "outputs": [
    {
     "data": {
      "text/plain": [
       "list"
      ]
     },
     "execution_count": 8,
     "metadata": {},
     "output_type": "execute_result"
    }
   ],
   "source": [
    "type(transformed)"
   ]
  },
  {
   "cell_type": "code",
   "execution_count": 9,
   "metadata": {},
   "outputs": [
    {
     "name": "stdout",
     "output_type": "stream",
     "text": [
      "3\n"
     ]
    },
    {
     "data": {
      "text/plain": [
       "[RelationRecord(items=frozenset({'não'}), support=1.0, ordered_statistics=[OrderedStatistic(items_base=frozenset(), items_add=frozenset({'não'}), confidence=1.0, lift=1.0)]),\n",
       " RelationRecord(items=frozenset({'sim'}), support=1.0, ordered_statistics=[OrderedStatistic(items_base=frozenset(), items_add=frozenset({'sim'}), confidence=1.0, lift=1.0)]),\n",
       " RelationRecord(items=frozenset({'não', 'sim'}), support=1.0, ordered_statistics=[OrderedStatistic(items_base=frozenset(), items_add=frozenset({'não', 'sim'}), confidence=1.0, lift=1.0), OrderedStatistic(items_base=frozenset({'não'}), items_add=frozenset({'sim'}), confidence=1.0, lift=1.0), OrderedStatistic(items_base=frozenset({'sim'}), items_add=frozenset({'não'}), confidence=1.0, lift=1.0)])]"
      ]
     },
     "execution_count": 9,
     "metadata": {},
     "output_type": "execute_result"
    }
   ],
   "source": [
    "rules = apriori(transformed, min_support = 0.3, min_confidence = 0.8)\n",
    "out = list(rules)\n",
    "print(len(out))\n",
    "out"
   ]
  },
  {
   "cell_type": "code",
   "execution_count": 10,
   "metadata": {},
   "outputs": [],
   "source": [
    "Antecedente = []\n",
    "Consequente = []\n",
    "suporte = []\n",
    "confianca = []\n",
    "lift = []\n",
    "\n",
    "# for resultado in saida:\n",
    "#   s = resultado[1]\n",
    "#   result_rules = resultado[2]\n",
    "#   for result_rule in result_rules:\n",
    "#     a = list(result_rule[0])\n",
    "#     b = list(result_rule[1])\n",
    "#     c = result_rule[2]\n",
    "#     l = result_rule[3]\n",
    "#     if 'nan' in a or 'nan' in b: continue\n",
    "#     if len(a) == 0 or len(b) == 0: continue\n",
    "#     Antecedente.append(a)\n",
    "#     Consequente.append(b)\n",
    "#     suporte.append(s)\n",
    "#     confianca.append(c)\n",
    "#     lift.append(l)\n",
    "#     RegrasFinais = pd.DataFrame({'Antecedente': Antecedente, 'Consequente': Consequente, 'suporte': suporte, 'confianca': confianca, 'lift': lift})\n",
    "\n",
    "for resultado in out:\n",
    "    s = resultado[1]\n",
    "    result_rules = resultado[2]\n",
    "    for result_rule in result_rules:\n",
    "        items = [str(item) for item in result_rule[0]]  # Itens no antecedente\n",
    "        consequent_items = [str(item) for item in result_rule[1]]  # Itens no consequente\n",
    "\n",
    "        if len(items) == 0:\n",
    "            for item in consequent_items:\n",
    "                Antecedente.append([\"Não leva\"])\n",
    "                Consequente.append([item])\n",
    "        elif len(consequent_items) == 0:\n",
    "            for item in items:\n",
    "                Antecedente.append([item])\n",
    "                Consequente.append([\"Não leva\"])\n",
    "        else:\n",
    "            Antecedente.append(items)\n",
    "            Consequente.append(consequent_items)\n",
    "\n",
    "# Crie um DataFrame com as regras finais\n",
    "RegrasFinais = pd.DataFrame({'Antecedente': Antecedente, 'Consequente': Consequente})\n"
   ]
  },
  {
   "cell_type": "code",
   "execution_count": 11,
   "metadata": {},
   "outputs": [
    {
     "data": {
      "text/html": [
       "<div>\n",
       "<style scoped>\n",
       "    .dataframe tbody tr th:only-of-type {\n",
       "        vertical-align: middle;\n",
       "    }\n",
       "\n",
       "    .dataframe tbody tr th {\n",
       "        vertical-align: top;\n",
       "    }\n",
       "\n",
       "    .dataframe thead th {\n",
       "        text-align: right;\n",
       "    }\n",
       "</style>\n",
       "<table border=\"1\" class=\"dataframe\">\n",
       "  <thead>\n",
       "    <tr style=\"text-align: right;\">\n",
       "      <th></th>\n",
       "      <th>Antecedente</th>\n",
       "      <th>Consequente</th>\n",
       "    </tr>\n",
       "  </thead>\n",
       "  <tbody>\n",
       "    <tr>\n",
       "      <th>0</th>\n",
       "      <td>[Não leva]</td>\n",
       "      <td>[não]</td>\n",
       "    </tr>\n",
       "    <tr>\n",
       "      <th>1</th>\n",
       "      <td>[Não leva]</td>\n",
       "      <td>[sim]</td>\n",
       "    </tr>\n",
       "    <tr>\n",
       "      <th>2</th>\n",
       "      <td>[Não leva]</td>\n",
       "      <td>[não]</td>\n",
       "    </tr>\n",
       "    <tr>\n",
       "      <th>3</th>\n",
       "      <td>[Não leva]</td>\n",
       "      <td>[sim]</td>\n",
       "    </tr>\n",
       "    <tr>\n",
       "      <th>4</th>\n",
       "      <td>[não]</td>\n",
       "      <td>[sim]</td>\n",
       "    </tr>\n",
       "    <tr>\n",
       "      <th>5</th>\n",
       "      <td>[sim]</td>\n",
       "      <td>[não]</td>\n",
       "    </tr>\n",
       "  </tbody>\n",
       "</table>\n",
       "</div>"
      ],
      "text/plain": [
       "  Antecedente Consequente\n",
       "0  [Não leva]       [não]\n",
       "1  [Não leva]       [sim]\n",
       "2  [Não leva]       [não]\n",
       "3  [Não leva]       [sim]\n",
       "4       [não]       [sim]\n",
       "5       [sim]       [não]"
      ]
     },
     "execution_count": 11,
     "metadata": {},
     "output_type": "execute_result"
    }
   ],
   "source": [
    "RegrasFinais"
   ]
  },
  {
   "cell_type": "code",
   "execution_count": 12,
   "metadata": {},
   "outputs": [
    {
     "data": {
      "text/html": [
       "<div>\n",
       "<style scoped>\n",
       "    .dataframe tbody tr th:only-of-type {\n",
       "        vertical-align: middle;\n",
       "    }\n",
       "\n",
       "    .dataframe tbody tr th {\n",
       "        vertical-align: top;\n",
       "    }\n",
       "\n",
       "    .dataframe thead th {\n",
       "        text-align: right;\n",
       "    }\n",
       "</style>\n",
       "<table border=\"1\" class=\"dataframe\">\n",
       "  <thead>\n",
       "    <tr style=\"text-align: right;\">\n",
       "      <th></th>\n",
       "      <th>Antecedente</th>\n",
       "      <th>Consequente</th>\n",
       "    </tr>\n",
       "  </thead>\n",
       "  <tbody>\n",
       "    <tr>\n",
       "      <th>1</th>\n",
       "      <td>[Não leva]</td>\n",
       "      <td>[sim]</td>\n",
       "    </tr>\n",
       "    <tr>\n",
       "      <th>3</th>\n",
       "      <td>[Não leva]</td>\n",
       "      <td>[sim]</td>\n",
       "    </tr>\n",
       "    <tr>\n",
       "      <th>4</th>\n",
       "      <td>[não]</td>\n",
       "      <td>[sim]</td>\n",
       "    </tr>\n",
       "    <tr>\n",
       "      <th>0</th>\n",
       "      <td>[Não leva]</td>\n",
       "      <td>[não]</td>\n",
       "    </tr>\n",
       "    <tr>\n",
       "      <th>2</th>\n",
       "      <td>[Não leva]</td>\n",
       "      <td>[não]</td>\n",
       "    </tr>\n",
       "    <tr>\n",
       "      <th>5</th>\n",
       "      <td>[sim]</td>\n",
       "      <td>[não]</td>\n",
       "    </tr>\n",
       "  </tbody>\n",
       "</table>\n",
       "</div>"
      ],
      "text/plain": [
       "  Antecedente Consequente\n",
       "1  [Não leva]       [sim]\n",
       "3  [Não leva]       [sim]\n",
       "4       [não]       [sim]\n",
       "0  [Não leva]       [não]\n",
       "2  [Não leva]       [não]\n",
       "5       [sim]       [não]"
      ]
     },
     "execution_count": 12,
     "metadata": {},
     "output_type": "execute_result"
    }
   ],
   "source": [
    "RegrasFinais.sort_values(by='Consequente', ascending = False)"
   ]
  }
 ],
 "metadata": {
  "kernelspec": {
   "display_name": "Python 3",
   "language": "python",
   "name": "python3"
  },
  "language_info": {
   "codemirror_mode": {
    "name": "ipython",
    "version": 3
   },
   "file_extension": ".py",
   "mimetype": "text/x-python",
   "name": "python",
   "nbconvert_exporter": "python",
   "pygments_lexer": "ipython3",
   "version": "3.11.6"
  }
 },
 "nbformat": 4,
 "nbformat_minor": 2
}
